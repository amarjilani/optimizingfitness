{
 "cells": [
  {
   "cell_type": "markdown",
   "id": "4b6cfad0",
   "metadata": {},
   "source": [
    "# part 1, generate data sample "
   ]
  },
  {
   "cell_type": "markdown",
   "id": "f6769915",
   "metadata": {},
   "source": [
    "Skip  down to part 2 when running this notebook where the csv is read in this part creates the csv from the files on the website for part where the generated csv is loaded in, these files are from the https://sites.google.com/eng.ucsd.edu/fitrec-project/home "
   ]
  },
  {
   "cell_type": "markdown",
   "id": "ccddd18c",
   "metadata": {},
   "source": [
    "## get full data with 960,000 entries"
   ]
  },
  {
   "cell_type": "code",
   "execution_count": 1,
   "id": "78716f0b",
   "metadata": {},
   "outputs": [],
   "source": [
    "import dask.bag as db #parallel loading\n",
    "import ast\n",
    "import pandas as pd\n",
    "import json\n",
    "def process_row(row):\n",
    "    try:\n",
    "        # Convert string representation of a dictionary to an actual dictionary\n",
    "        return ast.literal_eval(row)\n",
    "    except ValueError as e:\n",
    "        # Handle potential errors in conversion\n",
    "        print(f\"Error processing row: {e}\")\n",
    "        return None\n",
    "\n",
    "# Read the JSON file with Dask\n",
    "b = db.read_text(\"endomondoMeta.json\").map(process_row) #this file is from the website \n",
    "\n",
    "# Filter out None values in case of any errors\n",
    "b = b.filter(lambda x: x is not None)\n",
    "\n",
    "# Convert to Dask DataFrame\n",
    "df = b.to_dataframe()\n",
    "\n",
    "# Optional: Convert to Pandas DataFrame if the data fits into memory\n",
    "data1 = df.compute()\n",
    "\n"
   ]
  },
  {
   "cell_type": "code",
   "execution_count": null,
   "id": "c5543265",
   "metadata": {},
   "outputs": [],
   "source": []
  },
  {
   "cell_type": "code",
   "execution_count": 2,
   "id": "61e9eb4e",
   "metadata": {},
   "outputs": [
    {
     "data": {
      "text/plain": [
       "(962190, 13)"
      ]
     },
     "execution_count": 2,
     "metadata": {},
     "output_type": "execute_result"
    }
   ],
   "source": [
    "data1.shape"
   ]
  },
  {
   "cell_type": "markdown",
   "id": "3818cd3b",
   "metadata": {},
   "source": [
    "## Get meta data, sample 250,000 rows"
   ]
  },
  {
   "cell_type": "code",
   "execution_count": 3,
   "id": "939184ec",
   "metadata": {},
   "outputs": [
    {
     "data": {
      "text/html": [
       "<div>\n",
       "<style scoped>\n",
       "    .dataframe tbody tr th:only-of-type {\n",
       "        vertical-align: middle;\n",
       "    }\n",
       "\n",
       "    .dataframe tbody tr th {\n",
       "        vertical-align: top;\n",
       "    }\n",
       "\n",
       "    .dataframe thead th {\n",
       "        text-align: right;\n",
       "    }\n",
       "</style>\n",
       "<table border=\"1\" class=\"dataframe\">\n",
       "  <thead>\n",
       "    <tr style=\"text-align: right;\">\n",
       "      <th></th>\n",
       "      <th>speed</th>\n",
       "      <th>altitude</th>\n",
       "      <th>gender</th>\n",
       "      <th>heart_rate</th>\n",
       "      <th>id</th>\n",
       "      <th>url</th>\n",
       "      <th>userId</th>\n",
       "      <th>timestamp</th>\n",
       "      <th>longitude</th>\n",
       "      <th>latitude</th>\n",
       "      <th>sport</th>\n",
       "    </tr>\n",
       "  </thead>\n",
       "  <tbody>\n",
       "    <tr>\n",
       "      <th>0</th>\n",
       "      <td>[6.8652, 16.4736, 19.1988, 20.4804, 31.3956, 3...</td>\n",
       "      <td>[41.6, 40.6, 40.6, 38.4, 37.0, 34.0, 34.0, 34....</td>\n",
       "      <td>male</td>\n",
       "      <td>[100, 111, 120, 119, 120, 116, 125, 128, 131, ...</td>\n",
       "      <td>396826535</td>\n",
       "      <td>https://www.endomondo.com/users/10921915/worko...</td>\n",
       "      <td>10921915</td>\n",
       "      <td>[1408898746, 1408898754, 1408898765, 140889877...</td>\n",
       "      <td>[24.64977040886879, 24.65014273300767, 24.6509...</td>\n",
       "      <td>[60.173348765820265, 60.173239801079035, 60.17...</td>\n",
       "      <td>bike</td>\n",
       "    </tr>\n",
       "    <tr>\n",
       "      <th>1</th>\n",
       "      <td>[9.0792, 13.284, 15.9336, 10.9476, 16.1676, 30...</td>\n",
       "      <td>[38.4, 39.0, 39.0, 38.2, 36.8, 36.8, 36.8, 35....</td>\n",
       "      <td>male</td>\n",
       "      <td>[100, 105, 111, 110, 108, 115, 126, 130, 132, ...</td>\n",
       "      <td>392337038</td>\n",
       "      <td>https://www.endomondo.com/users/10921915/worko...</td>\n",
       "      <td>10921915</td>\n",
       "      <td>[1408221682, 1408221687, 1408221699, 140822170...</td>\n",
       "      <td>[24.649855233728886, 24.65015547350049, 24.650...</td>\n",
       "      <td>[60.173247596248984, 60.17320962622762, 60.172...</td>\n",
       "      <td>bike</td>\n",
       "    </tr>\n",
       "    <tr>\n",
       "      <th>2</th>\n",
       "      <td>[4.0464, 13.8204, 16.9776, 19.9404, 28.7856, 3...</td>\n",
       "      <td>[76.4, 73.2, 72.4, 73.0, 73.0, 70.8, 69.2, 69....</td>\n",
       "      <td>male</td>\n",
       "      <td>[99, 105, 113, 110, 109, 110, 108, 121, 116, 1...</td>\n",
       "      <td>389643739</td>\n",
       "      <td>https://www.endomondo.com/users/10921915/worko...</td>\n",
       "      <td>10921915</td>\n",
       "      <td>[1407858459, 1407858466, 1407858478, 140785849...</td>\n",
       "      <td>[24.64995657093823, 24.650197718292475, 24.651...</td>\n",
       "      <td>[60.17326201312244, 60.173205351457, 60.172969...</td>\n",
       "      <td>bike</td>\n",
       "    </tr>\n",
       "    <tr>\n",
       "      <th>3</th>\n",
       "      <td>[7.4988, 15.4008, 17.8668, 21.5712, 24.1416, 3...</td>\n",
       "      <td>[28.6, 29.4, 29.4, 29.4, 28.0, 27.0, 25.2, 23....</td>\n",
       "      <td>male</td>\n",
       "      <td>[99, 105, 113, 109, 112, 116, 116, 114, 114, 1...</td>\n",
       "      <td>386729739</td>\n",
       "      <td>https://www.endomondo.com/users/10921915/worko...</td>\n",
       "      <td>10921915</td>\n",
       "      <td>[1407432042, 1407432048, 1407432056, 140743206...</td>\n",
       "      <td>[24.649874344468117, 24.650242729112506, 24.65...</td>\n",
       "      <td>[60.173286236822605, 60.17323946580291, 60.173...</td>\n",
       "      <td>bike</td>\n",
       "    </tr>\n",
       "    <tr>\n",
       "      <th>4</th>\n",
       "      <td>NaN</td>\n",
       "      <td>[32.0, 32.0, 32.0, 35.8, 36.2, 36.2, 36.2, 36....</td>\n",
       "      <td>male</td>\n",
       "      <td>[110, 113, 114, 116, 123, 126, 129, 135, 137, ...</td>\n",
       "      <td>383186560</td>\n",
       "      <td>https://www.endomondo.com/users/10921915/worko...</td>\n",
       "      <td>10921915</td>\n",
       "      <td>[1406909434, 1406909436, 1406909437, 140690943...</td>\n",
       "      <td>[24.64979832060635, 24.64992195367813, 24.6500...</td>\n",
       "      <td>[60.17329327762127, 60.17327332869172, 60.1732...</td>\n",
       "      <td>bike (transport)</td>\n",
       "    </tr>\n",
       "  </tbody>\n",
       "</table>\n",
       "</div>"
      ],
      "text/plain": [
       "                                               speed  \\\n",
       "0  [6.8652, 16.4736, 19.1988, 20.4804, 31.3956, 3...   \n",
       "1  [9.0792, 13.284, 15.9336, 10.9476, 16.1676, 30...   \n",
       "2  [4.0464, 13.8204, 16.9776, 19.9404, 28.7856, 3...   \n",
       "3  [7.4988, 15.4008, 17.8668, 21.5712, 24.1416, 3...   \n",
       "4                                                NaN   \n",
       "\n",
       "                                            altitude gender  \\\n",
       "0  [41.6, 40.6, 40.6, 38.4, 37.0, 34.0, 34.0, 34....   male   \n",
       "1  [38.4, 39.0, 39.0, 38.2, 36.8, 36.8, 36.8, 35....   male   \n",
       "2  [76.4, 73.2, 72.4, 73.0, 73.0, 70.8, 69.2, 69....   male   \n",
       "3  [28.6, 29.4, 29.4, 29.4, 28.0, 27.0, 25.2, 23....   male   \n",
       "4  [32.0, 32.0, 32.0, 35.8, 36.2, 36.2, 36.2, 36....   male   \n",
       "\n",
       "                                          heart_rate         id  \\\n",
       "0  [100, 111, 120, 119, 120, 116, 125, 128, 131, ...  396826535   \n",
       "1  [100, 105, 111, 110, 108, 115, 126, 130, 132, ...  392337038   \n",
       "2  [99, 105, 113, 110, 109, 110, 108, 121, 116, 1...  389643739   \n",
       "3  [99, 105, 113, 109, 112, 116, 116, 114, 114, 1...  386729739   \n",
       "4  [110, 113, 114, 116, 123, 126, 129, 135, 137, ...  383186560   \n",
       "\n",
       "                                                 url    userId  \\\n",
       "0  https://www.endomondo.com/users/10921915/worko...  10921915   \n",
       "1  https://www.endomondo.com/users/10921915/worko...  10921915   \n",
       "2  https://www.endomondo.com/users/10921915/worko...  10921915   \n",
       "3  https://www.endomondo.com/users/10921915/worko...  10921915   \n",
       "4  https://www.endomondo.com/users/10921915/worko...  10921915   \n",
       "\n",
       "                                           timestamp  \\\n",
       "0  [1408898746, 1408898754, 1408898765, 140889877...   \n",
       "1  [1408221682, 1408221687, 1408221699, 140822170...   \n",
       "2  [1407858459, 1407858466, 1407858478, 140785849...   \n",
       "3  [1407432042, 1407432048, 1407432056, 140743206...   \n",
       "4  [1406909434, 1406909436, 1406909437, 140690943...   \n",
       "\n",
       "                                           longitude  \\\n",
       "0  [24.64977040886879, 24.65014273300767, 24.6509...   \n",
       "1  [24.649855233728886, 24.65015547350049, 24.650...   \n",
       "2  [24.64995657093823, 24.650197718292475, 24.651...   \n",
       "3  [24.649874344468117, 24.650242729112506, 24.65...   \n",
       "4  [24.64979832060635, 24.64992195367813, 24.6500...   \n",
       "\n",
       "                                            latitude             sport  \n",
       "0  [60.173348765820265, 60.173239801079035, 60.17...              bike  \n",
       "1  [60.173247596248984, 60.17320962622762, 60.172...              bike  \n",
       "2  [60.17326201312244, 60.173205351457, 60.172969...              bike  \n",
       "3  [60.173286236822605, 60.17323946580291, 60.173...              bike  \n",
       "4  [60.17329327762127, 60.17327332869172, 60.1732...  bike (transport)  "
      ]
     },
     "execution_count": 3,
     "metadata": {},
     "output_type": "execute_result"
    }
   ],
   "source": [
    "import pandas as pd\n",
    "import json\n",
    "from concurrent.futures import ProcessPoolExecutor\n",
    "\n",
    "# Function to process a chunk of lines\n",
    "def process_lines(chunk):\n",
    "    processed_chunk = []\n",
    "    for line in chunk:\n",
    "        try:\n",
    "            processed_chunk.append(json.loads(line))\n",
    "        except json.JSONDecodeError:\n",
    "            continue\n",
    "    return processed_chunk\n",
    "\n",
    "# Load the data and prepare it\n",
    "with open('endomondoHR.json', 'r') as f: #file from website\n",
    "    raw_content = f.read()\n",
    "corrected_content = raw_content.replace(\"'\", '\"')\n",
    "lines = corrected_content.splitlines()\n",
    "\n",
    "# Truncate to the first 450,000 lines if the file has more lines\n",
    "lines = lines[:600000]\n",
    "\n",
    "# Determine the optimal chunk size\n",
    "chunk_size = len(lines) // 32  # or another value based on experimentation\n",
    "\n",
    "# Split lines into chunks\n",
    "chunks = [lines[i:i + chunk_size] for i in range(0, len(lines), chunk_size)]\n",
    "\n",
    "# Use ProcessPoolExecutor to process lines in parallel\n",
    "with ProcessPoolExecutor(max_workers=32) as executor:\n",
    "    data_list = executor.map(process_lines, chunks)\n",
    "    data_list = [item for sublist in data_list for item in sublist]  # Flatten the list of lists\n",
    "\n",
    "# Create a DataFrame\n",
    "data = pd.DataFrame(data_list)\n",
    "\n",
    "# Show the first few rows of the DataFrame\n",
    "data.head()\n"
   ]
  },
  {
   "cell_type": "code",
   "execution_count": 5,
   "id": "aaba0b84",
   "metadata": {},
   "outputs": [
    {
     "data": {
      "text/plain": [
       "(253020, 11)"
      ]
     },
     "execution_count": 5,
     "metadata": {},
     "output_type": "execute_result"
    }
   ],
   "source": [
    "data.shape"
   ]
  },
  {
   "cell_type": "code",
   "execution_count": 6,
   "id": "650f6ac8",
   "metadata": {},
   "outputs": [
    {
     "data": {
      "text/html": [
       "<div>\n",
       "<style scoped>\n",
       "    .dataframe tbody tr th:only-of-type {\n",
       "        vertical-align: middle;\n",
       "    }\n",
       "\n",
       "    .dataframe tbody tr th {\n",
       "        vertical-align: top;\n",
       "    }\n",
       "\n",
       "    .dataframe thead th {\n",
       "        text-align: right;\n",
       "    }\n",
       "</style>\n",
       "<table border=\"1\" class=\"dataframe\">\n",
       "  <thead>\n",
       "    <tr style=\"text-align: right;\">\n",
       "      <th></th>\n",
       "      <th>id</th>\n",
       "      <th>ascent</th>\n",
       "      <th>descent</th>\n",
       "      <th>calories</th>\n",
       "      <th>duration</th>\n",
       "      <th>distance</th>\n",
       "      <th>weather</th>\n",
       "    </tr>\n",
       "  </thead>\n",
       "  <tbody>\n",
       "    <tr>\n",
       "      <th>0</th>\n",
       "      <td>322483826</td>\n",
       "      <td>147.0</td>\n",
       "      <td>137.0</td>\n",
       "      <td>1313.0</td>\n",
       "      <td>3218.35</td>\n",
       "      <td>18.85551</td>\n",
       "      <td>{'type': 7}</td>\n",
       "    </tr>\n",
       "    <tr>\n",
       "      <th>1</th>\n",
       "      <td>322483840</td>\n",
       "      <td>97.0</td>\n",
       "      <td>84.0</td>\n",
       "      <td>724.0</td>\n",
       "      <td>1728.33</td>\n",
       "      <td>10.91231</td>\n",
       "      <td>{'type': 7}</td>\n",
       "    </tr>\n",
       "    <tr>\n",
       "      <th>2</th>\n",
       "      <td>322483848</td>\n",
       "      <td>82.0</td>\n",
       "      <td>94.0</td>\n",
       "      <td>424.0</td>\n",
       "      <td>1904.69</td>\n",
       "      <td>10.76309</td>\n",
       "      <td>{'type': 6}</td>\n",
       "    </tr>\n",
       "    <tr>\n",
       "      <th>3</th>\n",
       "      <td>322483865</td>\n",
       "      <td>263.0</td>\n",
       "      <td>274.0</td>\n",
       "      <td>2732.0</td>\n",
       "      <td>7218.46</td>\n",
       "      <td>38.31579</td>\n",
       "      <td>{'type': 1}</td>\n",
       "    </tr>\n",
       "    <tr>\n",
       "      <th>4</th>\n",
       "      <td>322483880</td>\n",
       "      <td>132.0</td>\n",
       "      <td>135.0</td>\n",
       "      <td>1301.0</td>\n",
       "      <td>3208.09</td>\n",
       "      <td>18.71360</td>\n",
       "      <td>{'type': 1}</td>\n",
       "    </tr>\n",
       "  </tbody>\n",
       "</table>\n",
       "</div>"
      ],
      "text/plain": [
       "          id  ascent  descent  calories  duration  distance      weather\n",
       "0  322483826   147.0    137.0    1313.0   3218.35  18.85551  {'type': 7}\n",
       "1  322483840    97.0     84.0     724.0   1728.33  10.91231  {'type': 7}\n",
       "2  322483848    82.0     94.0     424.0   1904.69  10.76309  {'type': 6}\n",
       "3  322483865   263.0    274.0    2732.0   7218.46  38.31579  {'type': 1}\n",
       "4  322483880   132.0    135.0    1301.0   3208.09  18.71360  {'type': 1}"
      ]
     },
     "execution_count": 6,
     "metadata": {},
     "output_type": "execute_result"
    }
   ],
   "source": [
    "meta_features = data1[['id', 'ascent', 'descent', 'calories', 'duration', 'distance', 'weather']]\n",
    "meta_features.head()"
   ]
  },
  {
   "cell_type": "markdown",
   "id": "340f7249",
   "metadata": {},
   "source": [
    "## convert time series"
   ]
  },
  {
   "cell_type": "code",
   "execution_count": 7,
   "id": "f1ad3ec4",
   "metadata": {},
   "outputs": [
    {
     "data": {
      "text/plain": [
       "(253020, 16)"
      ]
     },
     "execution_count": 7,
     "metadata": {},
     "output_type": "execute_result"
    }
   ],
   "source": [
    "import numpy as np\n",
    "\n",
    "data['avg_latitude'] = data['latitude'].apply(lambda x: np.mean(x) if isinstance(x, list) and len(x) > 0 else np.nan)\n",
    "data['avg_longitude'] = data['longitude'].apply(lambda x: np.mean(x) if isinstance(x, list) and len(x) > 0 else np.nan)\n",
    "data['avg_heart_rate'] = data['heart_rate'].apply(lambda x: np.mean(x) if isinstance(x, list) and len(x) > 0 else np.nan)\n",
    "data['avg_altitude'] = data['altitude'].apply(lambda x: np.mean(x) if isinstance(x, list) and len(x) > 0 else np.nan)\n",
    "data['avg_speed'] = data['speed'].apply(lambda x: np.mean(x) if isinstance(x, list) and len(x) > 0 else np.nan)\n",
    "\n",
    "data.shape"
   ]
  },
  {
   "cell_type": "code",
   "execution_count": 8,
   "id": "953f4b02",
   "metadata": {},
   "outputs": [
    {
     "data": {
      "text/html": [
       "<div>\n",
       "<style scoped>\n",
       "    .dataframe tbody tr th:only-of-type {\n",
       "        vertical-align: middle;\n",
       "    }\n",
       "\n",
       "    .dataframe tbody tr th {\n",
       "        vertical-align: top;\n",
       "    }\n",
       "\n",
       "    .dataframe thead th {\n",
       "        text-align: right;\n",
       "    }\n",
       "</style>\n",
       "<table border=\"1\" class=\"dataframe\">\n",
       "  <thead>\n",
       "    <tr style=\"text-align: right;\">\n",
       "      <th></th>\n",
       "      <th>speed</th>\n",
       "      <th>altitude</th>\n",
       "      <th>gender</th>\n",
       "      <th>heart_rate</th>\n",
       "      <th>id</th>\n",
       "      <th>url</th>\n",
       "      <th>userId</th>\n",
       "      <th>timestamp</th>\n",
       "      <th>longitude</th>\n",
       "      <th>latitude</th>\n",
       "      <th>sport</th>\n",
       "      <th>avg_latitude</th>\n",
       "      <th>avg_longitude</th>\n",
       "      <th>avg_heart_rate</th>\n",
       "      <th>avg_altitude</th>\n",
       "      <th>avg_speed</th>\n",
       "    </tr>\n",
       "  </thead>\n",
       "  <tbody>\n",
       "    <tr>\n",
       "      <th>0</th>\n",
       "      <td>[6.8652, 16.4736, 19.1988, 20.4804, 31.3956, 3...</td>\n",
       "      <td>[41.6, 40.6, 40.6, 38.4, 37.0, 34.0, 34.0, 34....</td>\n",
       "      <td>male</td>\n",
       "      <td>[100, 111, 120, 119, 120, 116, 125, 128, 131, ...</td>\n",
       "      <td>396826535</td>\n",
       "      <td>https://www.endomondo.com/users/10921915/worko...</td>\n",
       "      <td>10921915</td>\n",
       "      <td>[1408898746, 1408898754, 1408898765, 140889877...</td>\n",
       "      <td>[24.64977040886879, 24.65014273300767, 24.6509...</td>\n",
       "      <td>[60.173348765820265, 60.173239801079035, 60.17...</td>\n",
       "      <td>bike</td>\n",
       "      <td>60.182107</td>\n",
       "      <td>24.480066</td>\n",
       "      <td>152.650</td>\n",
       "      <td>43.0712</td>\n",
       "      <td>26.162158</td>\n",
       "    </tr>\n",
       "    <tr>\n",
       "      <th>1</th>\n",
       "      <td>[9.0792, 13.284, 15.9336, 10.9476, 16.1676, 30...</td>\n",
       "      <td>[38.4, 39.0, 39.0, 38.2, 36.8, 36.8, 36.8, 35....</td>\n",
       "      <td>male</td>\n",
       "      <td>[100, 105, 111, 110, 108, 115, 126, 130, 132, ...</td>\n",
       "      <td>392337038</td>\n",
       "      <td>https://www.endomondo.com/users/10921915/worko...</td>\n",
       "      <td>10921915</td>\n",
       "      <td>[1408221682, 1408221687, 1408221699, 140822170...</td>\n",
       "      <td>[24.649855233728886, 24.65015547350049, 24.650...</td>\n",
       "      <td>[60.173247596248984, 60.17320962622762, 60.172...</td>\n",
       "      <td>bike</td>\n",
       "      <td>60.179142</td>\n",
       "      <td>24.546053</td>\n",
       "      <td>147.710</td>\n",
       "      <td>35.7248</td>\n",
       "      <td>27.218369</td>\n",
       "    </tr>\n",
       "    <tr>\n",
       "      <th>2</th>\n",
       "      <td>[4.0464, 13.8204, 16.9776, 19.9404, 28.7856, 3...</td>\n",
       "      <td>[76.4, 73.2, 72.4, 73.0, 73.0, 70.8, 69.2, 69....</td>\n",
       "      <td>male</td>\n",
       "      <td>[99, 105, 113, 110, 109, 110, 108, 121, 116, 1...</td>\n",
       "      <td>389643739</td>\n",
       "      <td>https://www.endomondo.com/users/10921915/worko...</td>\n",
       "      <td>10921915</td>\n",
       "      <td>[1407858459, 1407858466, 1407858478, 140785849...</td>\n",
       "      <td>[24.64995657093823, 24.650197718292475, 24.651...</td>\n",
       "      <td>[60.17326201312244, 60.173205351457, 60.172969...</td>\n",
       "      <td>bike</td>\n",
       "      <td>60.174214</td>\n",
       "      <td>24.505033</td>\n",
       "      <td>140.554</td>\n",
       "      <td>62.4256</td>\n",
       "      <td>26.050774</td>\n",
       "    </tr>\n",
       "    <tr>\n",
       "      <th>3</th>\n",
       "      <td>[7.4988, 15.4008, 17.8668, 21.5712, 24.1416, 3...</td>\n",
       "      <td>[28.6, 29.4, 29.4, 29.4, 28.0, 27.0, 25.2, 23....</td>\n",
       "      <td>male</td>\n",
       "      <td>[99, 105, 113, 109, 112, 116, 116, 114, 114, 1...</td>\n",
       "      <td>386729739</td>\n",
       "      <td>https://www.endomondo.com/users/10921915/worko...</td>\n",
       "      <td>10921915</td>\n",
       "      <td>[1407432042, 1407432048, 1407432056, 140743206...</td>\n",
       "      <td>[24.649874344468117, 24.650242729112506, 24.65...</td>\n",
       "      <td>[60.173286236822605, 60.17323946580291, 60.173...</td>\n",
       "      <td>bike</td>\n",
       "      <td>60.179844</td>\n",
       "      <td>24.544119</td>\n",
       "      <td>147.020</td>\n",
       "      <td>32.6104</td>\n",
       "      <td>26.877838</td>\n",
       "    </tr>\n",
       "    <tr>\n",
       "      <th>4</th>\n",
       "      <td>NaN</td>\n",
       "      <td>[32.0, 32.0, 32.0, 35.8, 36.2, 36.2, 36.2, 36....</td>\n",
       "      <td>male</td>\n",
       "      <td>[110, 113, 114, 116, 123, 126, 129, 135, 137, ...</td>\n",
       "      <td>383186560</td>\n",
       "      <td>https://www.endomondo.com/users/10921915/worko...</td>\n",
       "      <td>10921915</td>\n",
       "      <td>[1406909434, 1406909436, 1406909437, 140690943...</td>\n",
       "      <td>[24.64979832060635, 24.64992195367813, 24.6500...</td>\n",
       "      <td>[60.17329327762127, 60.17327332869172, 60.1732...</td>\n",
       "      <td>bike (transport)</td>\n",
       "      <td>60.178065</td>\n",
       "      <td>24.731128</td>\n",
       "      <td>167.154</td>\n",
       "      <td>22.7620</td>\n",
       "      <td>NaN</td>\n",
       "    </tr>\n",
       "  </tbody>\n",
       "</table>\n",
       "</div>"
      ],
      "text/plain": [
       "                                               speed  \\\n",
       "0  [6.8652, 16.4736, 19.1988, 20.4804, 31.3956, 3...   \n",
       "1  [9.0792, 13.284, 15.9336, 10.9476, 16.1676, 30...   \n",
       "2  [4.0464, 13.8204, 16.9776, 19.9404, 28.7856, 3...   \n",
       "3  [7.4988, 15.4008, 17.8668, 21.5712, 24.1416, 3...   \n",
       "4                                                NaN   \n",
       "\n",
       "                                            altitude gender  \\\n",
       "0  [41.6, 40.6, 40.6, 38.4, 37.0, 34.0, 34.0, 34....   male   \n",
       "1  [38.4, 39.0, 39.0, 38.2, 36.8, 36.8, 36.8, 35....   male   \n",
       "2  [76.4, 73.2, 72.4, 73.0, 73.0, 70.8, 69.2, 69....   male   \n",
       "3  [28.6, 29.4, 29.4, 29.4, 28.0, 27.0, 25.2, 23....   male   \n",
       "4  [32.0, 32.0, 32.0, 35.8, 36.2, 36.2, 36.2, 36....   male   \n",
       "\n",
       "                                          heart_rate         id  \\\n",
       "0  [100, 111, 120, 119, 120, 116, 125, 128, 131, ...  396826535   \n",
       "1  [100, 105, 111, 110, 108, 115, 126, 130, 132, ...  392337038   \n",
       "2  [99, 105, 113, 110, 109, 110, 108, 121, 116, 1...  389643739   \n",
       "3  [99, 105, 113, 109, 112, 116, 116, 114, 114, 1...  386729739   \n",
       "4  [110, 113, 114, 116, 123, 126, 129, 135, 137, ...  383186560   \n",
       "\n",
       "                                                 url    userId  \\\n",
       "0  https://www.endomondo.com/users/10921915/worko...  10921915   \n",
       "1  https://www.endomondo.com/users/10921915/worko...  10921915   \n",
       "2  https://www.endomondo.com/users/10921915/worko...  10921915   \n",
       "3  https://www.endomondo.com/users/10921915/worko...  10921915   \n",
       "4  https://www.endomondo.com/users/10921915/worko...  10921915   \n",
       "\n",
       "                                           timestamp  \\\n",
       "0  [1408898746, 1408898754, 1408898765, 140889877...   \n",
       "1  [1408221682, 1408221687, 1408221699, 140822170...   \n",
       "2  [1407858459, 1407858466, 1407858478, 140785849...   \n",
       "3  [1407432042, 1407432048, 1407432056, 140743206...   \n",
       "4  [1406909434, 1406909436, 1406909437, 140690943...   \n",
       "\n",
       "                                           longitude  \\\n",
       "0  [24.64977040886879, 24.65014273300767, 24.6509...   \n",
       "1  [24.649855233728886, 24.65015547350049, 24.650...   \n",
       "2  [24.64995657093823, 24.650197718292475, 24.651...   \n",
       "3  [24.649874344468117, 24.650242729112506, 24.65...   \n",
       "4  [24.64979832060635, 24.64992195367813, 24.6500...   \n",
       "\n",
       "                                            latitude             sport  \\\n",
       "0  [60.173348765820265, 60.173239801079035, 60.17...              bike   \n",
       "1  [60.173247596248984, 60.17320962622762, 60.172...              bike   \n",
       "2  [60.17326201312244, 60.173205351457, 60.172969...              bike   \n",
       "3  [60.173286236822605, 60.17323946580291, 60.173...              bike   \n",
       "4  [60.17329327762127, 60.17327332869172, 60.1732...  bike (transport)   \n",
       "\n",
       "   avg_latitude  avg_longitude  avg_heart_rate  avg_altitude  avg_speed  \n",
       "0     60.182107      24.480066         152.650       43.0712  26.162158  \n",
       "1     60.179142      24.546053         147.710       35.7248  27.218369  \n",
       "2     60.174214      24.505033         140.554       62.4256  26.050774  \n",
       "3     60.179844      24.544119         147.020       32.6104  26.877838  \n",
       "4     60.178065      24.731128         167.154       22.7620        NaN  "
      ]
     },
     "execution_count": 8,
     "metadata": {},
     "output_type": "execute_result"
    }
   ],
   "source": [
    "data.head()"
   ]
  },
  {
   "cell_type": "markdown",
   "id": "a3f86dd1",
   "metadata": {},
   "source": [
    "## merge (ohe) gender, drop id"
   ]
  },
  {
   "cell_type": "code",
   "execution_count": 9,
   "id": "a1d374f8",
   "metadata": {},
   "outputs": [],
   "source": [
    "data_combined = data[['avg_latitude', 'avg_longitude', 'avg_heart_rate', 'avg_altitude', 'avg_speed', 'gender', 'sport', 'id']]\n",
    "data_combined = pd.get_dummies(data_combined, columns=['gender'])\n",
    "full = data_combined.merge(meta_features, on=\"id\")\n",
    "\n"
   ]
  },
  {
   "cell_type": "code",
   "execution_count": 10,
   "id": "85894454",
   "metadata": {},
   "outputs": [
    {
     "data": {
      "text/plain": [
       "(253020, 16)"
      ]
     },
     "execution_count": 10,
     "metadata": {},
     "output_type": "execute_result"
    }
   ],
   "source": [
    "full.shape"
   ]
  },
  {
   "cell_type": "code",
   "execution_count": 11,
   "id": "6f992db2",
   "metadata": {},
   "outputs": [
    {
     "data": {
      "text/html": [
       "<div>\n",
       "<style scoped>\n",
       "    .dataframe tbody tr th:only-of-type {\n",
       "        vertical-align: middle;\n",
       "    }\n",
       "\n",
       "    .dataframe tbody tr th {\n",
       "        vertical-align: top;\n",
       "    }\n",
       "\n",
       "    .dataframe thead th {\n",
       "        text-align: right;\n",
       "    }\n",
       "</style>\n",
       "<table border=\"1\" class=\"dataframe\">\n",
       "  <thead>\n",
       "    <tr style=\"text-align: right;\">\n",
       "      <th></th>\n",
       "      <th>avg_latitude</th>\n",
       "      <th>avg_longitude</th>\n",
       "      <th>avg_heart_rate</th>\n",
       "      <th>avg_altitude</th>\n",
       "      <th>avg_speed</th>\n",
       "      <th>sport</th>\n",
       "      <th>id</th>\n",
       "      <th>gender_female</th>\n",
       "      <th>gender_male</th>\n",
       "      <th>gender_unknown</th>\n",
       "      <th>ascent</th>\n",
       "      <th>descent</th>\n",
       "      <th>calories</th>\n",
       "      <th>duration</th>\n",
       "      <th>distance</th>\n",
       "      <th>weather</th>\n",
       "    </tr>\n",
       "  </thead>\n",
       "  <tbody>\n",
       "    <tr>\n",
       "      <th>0</th>\n",
       "      <td>60.182107</td>\n",
       "      <td>24.480066</td>\n",
       "      <td>152.650</td>\n",
       "      <td>43.0712</td>\n",
       "      <td>26.162158</td>\n",
       "      <td>bike</td>\n",
       "      <td>396826535</td>\n",
       "      <td>0</td>\n",
       "      <td>1</td>\n",
       "      <td>0</td>\n",
       "      <td>423.0</td>\n",
       "      <td>428.0</td>\n",
       "      <td>1562.0</td>\n",
       "      <td>7587.375</td>\n",
       "      <td>53.88458</td>\n",
       "      <td>{'type': 3}</td>\n",
       "    </tr>\n",
       "    <tr>\n",
       "      <th>1</th>\n",
       "      <td>60.179142</td>\n",
       "      <td>24.546053</td>\n",
       "      <td>147.710</td>\n",
       "      <td>35.7248</td>\n",
       "      <td>27.218369</td>\n",
       "      <td>bike</td>\n",
       "      <td>392337038</td>\n",
       "      <td>0</td>\n",
       "      <td>1</td>\n",
       "      <td>0</td>\n",
       "      <td>227.0</td>\n",
       "      <td>230.0</td>\n",
       "      <td>908.0</td>\n",
       "      <td>4439.025</td>\n",
       "      <td>32.60639</td>\n",
       "      <td>{'type': 6}</td>\n",
       "    </tr>\n",
       "    <tr>\n",
       "      <th>2</th>\n",
       "      <td>60.174214</td>\n",
       "      <td>24.505033</td>\n",
       "      <td>140.554</td>\n",
       "      <td>62.4256</td>\n",
       "      <td>26.050774</td>\n",
       "      <td>bike</td>\n",
       "      <td>389643739</td>\n",
       "      <td>0</td>\n",
       "      <td>1</td>\n",
       "      <td>0</td>\n",
       "      <td>336.0</td>\n",
       "      <td>360.0</td>\n",
       "      <td>1138.0</td>\n",
       "      <td>6462.950</td>\n",
       "      <td>45.68974</td>\n",
       "      <td>{'type': 3}</td>\n",
       "    </tr>\n",
       "    <tr>\n",
       "      <th>3</th>\n",
       "      <td>60.179844</td>\n",
       "      <td>24.544119</td>\n",
       "      <td>147.020</td>\n",
       "      <td>32.6104</td>\n",
       "      <td>26.877838</td>\n",
       "      <td>bike</td>\n",
       "      <td>386729739</td>\n",
       "      <td>0</td>\n",
       "      <td>1</td>\n",
       "      <td>0</td>\n",
       "      <td>245.0</td>\n",
       "      <td>241.0</td>\n",
       "      <td>921.0</td>\n",
       "      <td>4490.901</td>\n",
       "      <td>32.70480</td>\n",
       "      <td>None</td>\n",
       "    </tr>\n",
       "    <tr>\n",
       "      <th>4</th>\n",
       "      <td>60.178065</td>\n",
       "      <td>24.731128</td>\n",
       "      <td>167.154</td>\n",
       "      <td>22.7620</td>\n",
       "      <td>NaN</td>\n",
       "      <td>bike (transport)</td>\n",
       "      <td>383186560</td>\n",
       "      <td>0</td>\n",
       "      <td>1</td>\n",
       "      <td>0</td>\n",
       "      <td>90.0</td>\n",
       "      <td>108.0</td>\n",
       "      <td>350.0</td>\n",
       "      <td>1357.004</td>\n",
       "      <td>11.92104</td>\n",
       "      <td>{'type': 3}</td>\n",
       "    </tr>\n",
       "  </tbody>\n",
       "</table>\n",
       "</div>"
      ],
      "text/plain": [
       "   avg_latitude  avg_longitude  avg_heart_rate  avg_altitude  avg_speed  \\\n",
       "0     60.182107      24.480066         152.650       43.0712  26.162158   \n",
       "1     60.179142      24.546053         147.710       35.7248  27.218369   \n",
       "2     60.174214      24.505033         140.554       62.4256  26.050774   \n",
       "3     60.179844      24.544119         147.020       32.6104  26.877838   \n",
       "4     60.178065      24.731128         167.154       22.7620        NaN   \n",
       "\n",
       "              sport         id  gender_female  gender_male  gender_unknown  \\\n",
       "0              bike  396826535              0            1               0   \n",
       "1              bike  392337038              0            1               0   \n",
       "2              bike  389643739              0            1               0   \n",
       "3              bike  386729739              0            1               0   \n",
       "4  bike (transport)  383186560              0            1               0   \n",
       "\n",
       "   ascent  descent  calories  duration  distance      weather  \n",
       "0   423.0    428.0    1562.0  7587.375  53.88458  {'type': 3}  \n",
       "1   227.0    230.0     908.0  4439.025  32.60639  {'type': 6}  \n",
       "2   336.0    360.0    1138.0  6462.950  45.68974  {'type': 3}  \n",
       "3   245.0    241.0     921.0  4490.901  32.70480         None  \n",
       "4    90.0    108.0     350.0  1357.004  11.92104  {'type': 3}  "
      ]
     },
     "execution_count": 11,
     "metadata": {},
     "output_type": "execute_result"
    }
   ],
   "source": [
    "full.head()"
   ]
  },
  {
   "cell_type": "markdown",
   "id": "69e65105",
   "metadata": {},
   "source": [
    "## ohe weather normalizing first"
   ]
  },
  {
   "cell_type": "code",
   "execution_count": 12,
   "id": "7cada685",
   "metadata": {},
   "outputs": [],
   "source": [
    "import pandas as pd\n",
    "\n",
    "# Assuming 'full' is your original DataFrame\n",
    "# Step 1: Normalize the 'weather' column\n",
    "weather_normalized = pd.json_normalize(full['weather'])\n",
    "\n",
    "# Step 2: Fill in missing values\n",
    "weather_normalized = weather_normalized.fillna(0)\n",
    "\n",
    "# Step 3: Perform one-hot encoding\n",
    "weather_ohe = pd.get_dummies(weather_normalized, prefix='weather')\n",
    "\n",
    "# Step 4: Merge with the original DataFrame\n",
    "# Drop the original 'weather' column and concatenate the rest of 'full' with the one-hot encoded DataFrame\n",
    "full_ohe = pd.concat([full.drop('weather', axis=1), weather_ohe], axis=1)\n"
   ]
  },
  {
   "cell_type": "code",
   "execution_count": 13,
   "id": "220edb20",
   "metadata": {},
   "outputs": [
    {
     "data": {
      "text/plain": [
       "(253020, 20)"
      ]
     },
     "execution_count": 13,
     "metadata": {},
     "output_type": "execute_result"
    }
   ],
   "source": [
    "full_ohe.shape"
   ]
  },
  {
   "cell_type": "code",
   "execution_count": 14,
   "id": "034a5237",
   "metadata": {},
   "outputs": [
    {
     "data": {
      "text/plain": [
       "Index(['avg_latitude', 'avg_longitude', 'avg_heart_rate', 'avg_altitude',\n",
       "       'avg_speed', 'sport', 'id', 'gender_female', 'gender_male',\n",
       "       'gender_unknown', 'ascent', 'descent', 'calories', 'duration',\n",
       "       'distance', 'type', 'humidity', 'wind_direction', 'temperature',\n",
       "       'wind_speed'],\n",
       "      dtype='object')"
      ]
     },
     "execution_count": 14,
     "metadata": {},
     "output_type": "execute_result"
    }
   ],
   "source": [
    "\n",
    "full_ohe.columns"
   ]
  },
  {
   "cell_type": "code",
   "execution_count": null,
   "id": "ee0ed630",
   "metadata": {},
   "outputs": [],
   "source": []
  },
  {
   "cell_type": "code",
   "execution_count": 97,
   "id": "372680bb",
   "metadata": {},
   "outputs": [],
   "source": [
    "\n",
    "\n",
    "\n"
   ]
  },
  {
   "cell_type": "code",
   "execution_count": 98,
   "id": "ec074324",
   "metadata": {},
   "outputs": [
    {
     "data": {
      "text/plain": [
       "(253020, 20)"
      ]
     },
     "execution_count": 98,
     "metadata": {},
     "output_type": "execute_result"
    }
   ],
   "source": [
    "full_ohe.shape"
   ]
  },
  {
   "cell_type": "code",
   "execution_count": 15,
   "id": "27fc719c",
   "metadata": {},
   "outputs": [
    {
     "data": {
      "text/plain": [
       "(253020, 19)"
      ]
     },
     "execution_count": 15,
     "metadata": {},
     "output_type": "execute_result"
    }
   ],
   "source": [
    "full_ohe = full_ohe.drop('id', axis=1)\n",
    "full_ohe.shape"
   ]
  },
  {
   "cell_type": "markdown",
   "id": "811dc142",
   "metadata": {},
   "source": [
    "## save to csv to save time in future ~40mb csv created 250,000 merged entries 18 cols"
   ]
  },
  {
   "cell_type": "code",
   "execution_count": null,
   "id": "5a7862c5",
   "metadata": {},
   "outputs": [],
   "source": [
    "full_ohe.to_csv('full.csv')"
   ]
  },
  {
   "cell_type": "markdown",
   "id": "82e583a8",
   "metadata": {},
   "source": [
    "#  Part 2 Load in the CSV (included in  data folder) run from here"
   ]
  },
  {
   "cell_type": "code",
   "execution_count": 5,
   "id": "9b67df51",
   "metadata": {},
   "outputs": [],
   "source": [
    "import pandas as pd\n",
    "import numpy as np\n",
    "\n",
    "# Load and preprocess the data\n",
    "data = pd.read_csv('../data/full.csv')\n",
    "data = data.drop('Unnamed: 0', axis=1)"
   ]
  },
  {
   "cell_type": "code",
   "execution_count": 6,
   "id": "b2c0499a",
   "metadata": {},
   "outputs": [
    {
     "data": {
      "text/html": [
       "<div>\n",
       "<style scoped>\n",
       "    .dataframe tbody tr th:only-of-type {\n",
       "        vertical-align: middle;\n",
       "    }\n",
       "\n",
       "    .dataframe tbody tr th {\n",
       "        vertical-align: top;\n",
       "    }\n",
       "\n",
       "    .dataframe thead th {\n",
       "        text-align: right;\n",
       "    }\n",
       "</style>\n",
       "<table border=\"1\" class=\"dataframe\">\n",
       "  <thead>\n",
       "    <tr style=\"text-align: right;\">\n",
       "      <th></th>\n",
       "      <th>avg_latitude</th>\n",
       "      <th>avg_longitude</th>\n",
       "      <th>avg_heart_rate</th>\n",
       "      <th>avg_altitude</th>\n",
       "      <th>avg_speed</th>\n",
       "      <th>sport</th>\n",
       "      <th>gender_female</th>\n",
       "      <th>gender_male</th>\n",
       "      <th>gender_unknown</th>\n",
       "      <th>ascent</th>\n",
       "      <th>descent</th>\n",
       "      <th>calories</th>\n",
       "      <th>duration</th>\n",
       "      <th>distance</th>\n",
       "      <th>type</th>\n",
       "      <th>humidity</th>\n",
       "      <th>wind_direction</th>\n",
       "      <th>temperature</th>\n",
       "      <th>wind_speed</th>\n",
       "    </tr>\n",
       "  </thead>\n",
       "  <tbody>\n",
       "    <tr>\n",
       "      <th>0</th>\n",
       "      <td>60.182107</td>\n",
       "      <td>24.480066</td>\n",
       "      <td>152.650</td>\n",
       "      <td>43.0712</td>\n",
       "      <td>26.162158</td>\n",
       "      <td>bike</td>\n",
       "      <td>0</td>\n",
       "      <td>1</td>\n",
       "      <td>0</td>\n",
       "      <td>423.0</td>\n",
       "      <td>428.0</td>\n",
       "      <td>1562.0</td>\n",
       "      <td>7587.375</td>\n",
       "      <td>53.88458</td>\n",
       "      <td>3.0</td>\n",
       "      <td>0.0</td>\n",
       "      <td>0.0</td>\n",
       "      <td>0.0</td>\n",
       "      <td>0.0</td>\n",
       "    </tr>\n",
       "    <tr>\n",
       "      <th>1</th>\n",
       "      <td>60.179142</td>\n",
       "      <td>24.546053</td>\n",
       "      <td>147.710</td>\n",
       "      <td>35.7248</td>\n",
       "      <td>27.218369</td>\n",
       "      <td>bike</td>\n",
       "      <td>0</td>\n",
       "      <td>1</td>\n",
       "      <td>0</td>\n",
       "      <td>227.0</td>\n",
       "      <td>230.0</td>\n",
       "      <td>908.0</td>\n",
       "      <td>4439.025</td>\n",
       "      <td>32.60639</td>\n",
       "      <td>6.0</td>\n",
       "      <td>0.0</td>\n",
       "      <td>0.0</td>\n",
       "      <td>0.0</td>\n",
       "      <td>0.0</td>\n",
       "    </tr>\n",
       "    <tr>\n",
       "      <th>2</th>\n",
       "      <td>60.174214</td>\n",
       "      <td>24.505033</td>\n",
       "      <td>140.554</td>\n",
       "      <td>62.4256</td>\n",
       "      <td>26.050774</td>\n",
       "      <td>bike</td>\n",
       "      <td>0</td>\n",
       "      <td>1</td>\n",
       "      <td>0</td>\n",
       "      <td>336.0</td>\n",
       "      <td>360.0</td>\n",
       "      <td>1138.0</td>\n",
       "      <td>6462.950</td>\n",
       "      <td>45.68974</td>\n",
       "      <td>3.0</td>\n",
       "      <td>0.0</td>\n",
       "      <td>0.0</td>\n",
       "      <td>0.0</td>\n",
       "      <td>0.0</td>\n",
       "    </tr>\n",
       "    <tr>\n",
       "      <th>3</th>\n",
       "      <td>60.179844</td>\n",
       "      <td>24.544119</td>\n",
       "      <td>147.020</td>\n",
       "      <td>32.6104</td>\n",
       "      <td>26.877838</td>\n",
       "      <td>bike</td>\n",
       "      <td>0</td>\n",
       "      <td>1</td>\n",
       "      <td>0</td>\n",
       "      <td>245.0</td>\n",
       "      <td>241.0</td>\n",
       "      <td>921.0</td>\n",
       "      <td>4490.901</td>\n",
       "      <td>32.70480</td>\n",
       "      <td>0.0</td>\n",
       "      <td>0.0</td>\n",
       "      <td>0.0</td>\n",
       "      <td>0.0</td>\n",
       "      <td>0.0</td>\n",
       "    </tr>\n",
       "    <tr>\n",
       "      <th>4</th>\n",
       "      <td>60.178065</td>\n",
       "      <td>24.731128</td>\n",
       "      <td>167.154</td>\n",
       "      <td>22.7620</td>\n",
       "      <td>NaN</td>\n",
       "      <td>bike (transport)</td>\n",
       "      <td>0</td>\n",
       "      <td>1</td>\n",
       "      <td>0</td>\n",
       "      <td>90.0</td>\n",
       "      <td>108.0</td>\n",
       "      <td>350.0</td>\n",
       "      <td>1357.004</td>\n",
       "      <td>11.92104</td>\n",
       "      <td>3.0</td>\n",
       "      <td>0.0</td>\n",
       "      <td>0.0</td>\n",
       "      <td>0.0</td>\n",
       "      <td>0.0</td>\n",
       "    </tr>\n",
       "  </tbody>\n",
       "</table>\n",
       "</div>"
      ],
      "text/plain": [
       "   avg_latitude  avg_longitude  avg_heart_rate  avg_altitude  avg_speed  \\\n",
       "0     60.182107      24.480066         152.650       43.0712  26.162158   \n",
       "1     60.179142      24.546053         147.710       35.7248  27.218369   \n",
       "2     60.174214      24.505033         140.554       62.4256  26.050774   \n",
       "3     60.179844      24.544119         147.020       32.6104  26.877838   \n",
       "4     60.178065      24.731128         167.154       22.7620        NaN   \n",
       "\n",
       "              sport  gender_female  gender_male  gender_unknown  ascent  \\\n",
       "0              bike              0            1               0   423.0   \n",
       "1              bike              0            1               0   227.0   \n",
       "2              bike              0            1               0   336.0   \n",
       "3              bike              0            1               0   245.0   \n",
       "4  bike (transport)              0            1               0    90.0   \n",
       "\n",
       "   descent  calories  duration  distance  type  humidity  wind_direction  \\\n",
       "0    428.0    1562.0  7587.375  53.88458   3.0       0.0             0.0   \n",
       "1    230.0     908.0  4439.025  32.60639   6.0       0.0             0.0   \n",
       "2    360.0    1138.0  6462.950  45.68974   3.0       0.0             0.0   \n",
       "3    241.0     921.0  4490.901  32.70480   0.0       0.0             0.0   \n",
       "4    108.0     350.0  1357.004  11.92104   3.0       0.0             0.0   \n",
       "\n",
       "   temperature  wind_speed  \n",
       "0          0.0         0.0  \n",
       "1          0.0         0.0  \n",
       "2          0.0         0.0  \n",
       "3          0.0         0.0  \n",
       "4          0.0         0.0  "
      ]
     },
     "execution_count": 6,
     "metadata": {},
     "output_type": "execute_result"
    }
   ],
   "source": [
    "data.head()"
   ]
  },
  {
   "cell_type": "code",
   "execution_count": 8,
   "id": "5e171e88",
   "metadata": {},
   "outputs": [
    {
     "data": {
      "text/plain": [
       "(252868, 19)"
      ]
     },
     "execution_count": 8,
     "metadata": {},
     "output_type": "execute_result"
    }
   ],
   "source": [
    "data.shape"
   ]
  },
  {
   "cell_type": "markdown",
   "id": "a55d57ff",
   "metadata": {},
   "source": [
    "#  Data Processing (imputation, scaling, splitting)"
   ]
  },
  {
   "cell_type": "markdown",
   "id": "b6d4f6d7",
   "metadata": {},
   "source": [
    "In the data processing routine, the training and test datasets are treated differently to prevent data leakage and ensure the model's evaluation is fair and unbiased. For the training set, One-Hot Encoding (OHE) is applied to the target 'sport' column, transforming categorical sports data into a numerical format, and this encoded data is then used along with the feautres in an Iterative Imputation process to fill in any missing values (there are many). Iterative imputation from sklearn.expiremental is a lot more advanced that traditional imputation strategies like filling with the mean as it uses a regression model. This process helps the model learn complex patterns specific to each sport. After imputation, the features are standardized to normalize their scale. For the test set imputation and scaling , however, the approach is slightly different to maintain the integrity of unseen data: the OHE is applied as per the encoding learned from the training set, but imputation does not leverage the 'sport' information. Dummy columns are temporarily added to align the test set's features with the training set, ensuring that the model evaluates its performance on data structured identically to what it was trained on, but without using any specific information from the train set or being able to peek at the sports column to influence imputation. This careful separation in processing steps, of scaling and imputation is crucial for avoiding data leakage, where information from the test set could inadvertently influence the model during training, leading to overly optimistic and unrealistic performance evaluations.\n",
    "\n",
    "the imputation step made the biggest improvement to model performance"
   ]
  },
  {
   "cell_type": "code",
   "execution_count": 7,
   "id": "6f0c93b9",
   "metadata": {},
   "outputs": [
    {
     "name": "stderr",
     "output_type": "stream",
     "text": [
      "/global/software/sl-7.x86_64/modules/langs/python/3.10/lib/python3.10/site-packages/sklearn/preprocessing/_encoders.py:828: FutureWarning: `sparse` was renamed to `sparse_output` in version 1.2 and will be removed in 1.4. `sparse_output` is ignored unless you leave `sparse` to its default value.\n",
      "  warnings.warn(\n"
     ]
    }
   ],
   "source": [
    "\n",
    "import pandas as pd\n",
    "from sklearn.model_selection import train_test_split\n",
    "from sklearn.preprocessing import StandardScaler, OneHotEncoder\n",
    "from sklearn.experimental import enable_iterative_imputer  # This line is added to enable IterativeImputer\n",
    "from sklearn.impute import IterativeImputer\n",
    "# Assuming 'data' is your initial DataFrame\n",
    "top_20_sports = data['sport'].value_counts().head(25).index\n",
    "\n",
    "# Filter the DataFrame to keep only rows with these sports\n",
    "data = data[data['sport'].isin(top_20_sports)]\n",
    "\n",
    "# Split the data into training and test sets\n",
    "train_data, test_data = train_test_split(data, test_size=0.2, random_state=42)\n",
    "\n",
    "# Apply One-Hot Encoding to 'sport' for both train and test data\n",
    "ohe = OneHotEncoder(sparse=False)\n",
    "ohe.fit(data[['sport']])  # Fit OHE on the full dataset to capture all categories\n",
    "\n",
    "train_sports_ohe = ohe.transform(train_data[['sport']])\n",
    "train_sports_ohe_df = pd.DataFrame(train_sports_ohe, columns=ohe.get_feature_names_out(['sport']), index=train_data.index)\n",
    "\n",
    "test_sports_ohe = ohe.transform(test_data[['sport']])\n",
    "test_sports_ohe_df = pd.DataFrame(test_sports_ohe, columns=ohe.get_feature_names_out(['sport']), index=test_data.index)\n",
    "\n",
    "# Combine the OHE 'sport' columns with the rest of the train and test data\n",
    "train_data_with_ohe = pd.concat([train_data.drop('sport', axis=1), train_sports_ohe_df], axis=1)\n",
    "test_data_with_ohe = pd.concat([test_data.drop('sport', axis=1), test_sports_ohe_df], axis=1)\n",
    "\n",
    "# Initialize the IterativeImputer\n",
    "imputer = IterativeImputer()\n",
    "\n",
    "# Impute the training data\n",
    "X_train_imputed = imputer.fit_transform(train_data_with_ohe)\n",
    "\n",
    "# Convert imputed training data back to DataFrame and remove OHE 'sport' columns\n",
    "X_train = pd.DataFrame(X_train_imputed, columns=train_data_with_ohe.columns).drop(ohe.get_feature_names_out(['sport']), axis=1)\n",
    "\n",
    "# Impute the test data\n",
    "# Add dummy columns for OHE 'sport' in test data to match the feature set used in imputer\n",
    "for col in ohe.get_feature_names_out(['sport']):\n",
    "    if col not in test_data_with_ohe:\n",
    "        test_data_with_ohe[col] = 0\n",
    "\n",
    "X_test_imputed = imputer.transform(test_data_with_ohe)\n",
    "\n",
    "# Remove the dummy OHE 'sport' columns after imputation\n",
    "X_test = pd.DataFrame(X_test_imputed, columns=test_data_with_ohe.columns).drop(ohe.get_feature_names_out(['sport']), axis=1)\n",
    "\n",
    "# Standardize the features \n",
    "scaler = StandardScaler()\n",
    "X_train = scaler.fit_transform(X_train)\n",
    "X_test = scaler.transform(X_test)\n",
    "\n",
    "# Extract target values\n",
    "y_train = train_data['sport']\n",
    "y_test = test_data['sport']\n",
    "\n",
    "\n"
   ]
  },
  {
   "cell_type": "code",
   "execution_count": null,
   "id": "6cf16b61",
   "metadata": {},
   "outputs": [],
   "source": []
  },
  {
   "cell_type": "code",
   "execution_count": 36,
   "id": "70f3e66e",
   "metadata": {},
   "outputs": [
    {
     "data": {
      "text/plain": [
       "(252633, 19)"
      ]
     },
     "execution_count": 36,
     "metadata": {},
     "output_type": "execute_result"
    }
   ],
   "source": []
  },
  {
   "cell_type": "code",
   "execution_count": 37,
   "id": "f32c8c9c",
   "metadata": {},
   "outputs": [
    {
     "data": {
      "text/plain": [
       "(252633, 19)"
      ]
     },
     "execution_count": 37,
     "metadata": {},
     "output_type": "execute_result"
    }
   ],
   "source": []
  },
  {
   "cell_type": "markdown",
   "id": "c7be6c2b",
   "metadata": {},
   "source": [
    "# part 3 model evaluation"
   ]
  },
  {
   "cell_type": "markdown",
   "id": "ab7736a1",
   "metadata": {},
   "source": [
    "## Random Forest"
   ]
  },
  {
   "cell_type": "code",
   "execution_count": 9,
   "id": "5a56d0f3",
   "metadata": {},
   "outputs": [
    {
     "name": "stderr",
     "output_type": "stream",
     "text": [
      "/global/software/sl-7.x86_64/modules/langs/python/3.10/lib/python3.10/site-packages/sklearn/metrics/_classification.py:1344: UndefinedMetricWarning: Precision and F-score are ill-defined and being set to 0.0 in labels with no predicted samples. Use `zero_division` parameter to control this behavior.\n",
      "  _warn_prf(average, modifier, msg_start, len(result))\n",
      "/global/software/sl-7.x86_64/modules/langs/python/3.10/lib/python3.10/site-packages/sklearn/metrics/_classification.py:1344: UndefinedMetricWarning: Precision and F-score are ill-defined and being set to 0.0 in labels with no predicted samples. Use `zero_division` parameter to control this behavior.\n",
      "  _warn_prf(average, modifier, msg_start, len(result))\n"
     ]
    },
    {
     "name": "stdout",
     "output_type": "stream",
     "text": [
      "Classification Report:\n",
      "                          precision    recall  f1-score   support\n",
      "\n",
      "               aerobics       1.00      0.71      0.83         7\n",
      "                   bike       0.95      0.99      0.97     19395\n",
      "       bike (transport)       0.97      0.75      0.84      2085\n",
      "       circuit training       0.86      0.63      0.73        38\n",
      "core stability training       0.93      0.36      0.52       248\n",
      "   cross-country skiing       0.86      0.64      0.74       191\n",
      "        downhill skiing       1.00      0.91      0.95        23\n",
      "             elliptical       0.92      0.69      0.79        16\n",
      "        fitness walking       0.91      0.53      0.67        79\n",
      "             gymnastics       1.00      0.83      0.91        30\n",
      "                 hiking       0.72      0.49      0.58        68\n",
      "         indoor cycling       0.90      0.58      0.70       552\n",
      "               kayaking       0.94      0.55      0.69        53\n",
      "          mountain bike       0.93      0.92      0.92      2667\n",
      "           orienteering       0.92      0.43      0.59       247\n",
      "          roller skiing       1.00      0.55      0.71        88\n",
      "                 rowing       0.00      0.00      0.00        18\n",
      "                    run       0.97      1.00      0.98     23773\n",
      "                  skate       0.98      0.54      0.69       114\n",
      "            snowshoeing       0.50      0.17      0.25         6\n",
      "                 soccer       0.91      0.48      0.62        21\n",
      "               swimming       1.00      0.12      0.22         8\n",
      "      treadmill running       0.00      0.00      0.00        14\n",
      "                   walk       0.88      0.90      0.89       775\n",
      "        weight training       0.95      0.72      0.82        58\n",
      "\n",
      "               accuracy                           0.96     50574\n",
      "              macro avg       0.84      0.58      0.66     50574\n",
      "           weighted avg       0.96      0.96      0.95     50574\n",
      "\n",
      "Accuracy: 0.9584371416142682\n"
     ]
    },
    {
     "name": "stderr",
     "output_type": "stream",
     "text": [
      "/global/software/sl-7.x86_64/modules/langs/python/3.10/lib/python3.10/site-packages/sklearn/metrics/_classification.py:1344: UndefinedMetricWarning: Precision and F-score are ill-defined and being set to 0.0 in labels with no predicted samples. Use `zero_division` parameter to control this behavior.\n",
      "  _warn_prf(average, modifier, msg_start, len(result))\n"
     ]
    }
   ],
   "source": [
    "import pandas as pd\n",
    "from sklearn.model_selection import train_test_split, GridSearchCV\n",
    "from imblearn.ensemble import BalancedRandomForestClassifier\n",
    "from sklearn.metrics import classification_report, accuracy_score\n",
    "from sklearn.preprocessing import StandardScaler\n",
    "import pandas as pd\n",
    "from sklearn.model_selection import train_test_split\n",
    "from sklearn.ensemble import RandomForestClassifier, GradientBoostingClassifier, VotingClassifier, ExtraTreesClassifier\n",
    "from imblearn.ensemble import BalancedRandomForestClassifier\n",
    "from sklearn.metrics import classification_report, accuracy_score\n",
    "from sklearn.linear_model import LogisticRegression\n",
    "from sklearn.svm import SVC\n",
    "from sklearn.neighbors import KNeighborsClassifier\n",
    "from sklearn.discriminant_analysis import LinearDiscriminantAnalysis\n",
    "from sklearn.tree import DecisionTreeClassifier\n",
    "from sklearn.linear_model import RidgeClassifier, SGDClassifier, Perceptron\n",
    "from sklearn.ensemble import AdaBoostClassifier\n",
    "# Assuming X_train, X_test, y_train, y_test are already defined\n",
    "\n",
    "# Initialize the RandomForestClassifier\n",
    "# n_jobs=-1 enables parallel computation using all CPU cores\n",
    "rf = RandomForestClassifier(n_jobs=-1, random_state=42)\n",
    "\n",
    "# Train the model\n",
    "rf.fit(X_train, y_train)\n",
    "\n",
    "# Make predictions\n",
    "y_pred = rf.predict(X_test)\n",
    "\n",
    "# Evaluate the model\n",
    "print(\"Classification Report:\\n\", classification_report(y_test, y_pred))\n",
    "print(\"Accuracy:\", accuracy_score(y_test, y_pred))"
   ]
  },
  {
   "cell_type": "markdown",
   "id": "04aa5a6f",
   "metadata": {},
   "source": [
    "## graphical analysis of f1 score and occurence"
   ]
  },
  {
   "cell_type": "code",
   "execution_count": 11,
   "id": "a60e311e",
   "metadata": {},
   "outputs": [
    {
     "name": "stderr",
     "output_type": "stream",
     "text": [
      "/global/software/sl-7.x86_64/modules/langs/python/3.10/lib/python3.10/site-packages/sklearn/metrics/_classification.py:1344: UndefinedMetricWarning: Precision and F-score are ill-defined and being set to 0.0 in labels with no predicted samples. Use `zero_division` parameter to control this behavior.\n",
      "  _warn_prf(average, modifier, msg_start, len(result))\n",
      "/global/software/sl-7.x86_64/modules/langs/python/3.10/lib/python3.10/site-packages/sklearn/metrics/_classification.py:1344: UndefinedMetricWarning: Precision and F-score are ill-defined and being set to 0.0 in labels with no predicted samples. Use `zero_division` parameter to control this behavior.\n",
      "  _warn_prf(average, modifier, msg_start, len(result))\n",
      "/global/software/sl-7.x86_64/modules/langs/python/3.10/lib/python3.10/site-packages/sklearn/metrics/_classification.py:1344: UndefinedMetricWarning: Precision and F-score are ill-defined and being set to 0.0 in labels with no predicted samples. Use `zero_division` parameter to control this behavior.\n",
      "  _warn_prf(average, modifier, msg_start, len(result))\n"
     ]
    },
    {
     "data": {
      "image/png": "[encoded data removed]",
      "text/plain": [
       "<Figure size 1500x1000 with 2 Axes>"
      ]
     },
     "metadata": {},
     "output_type": "display_data"
    },
    {
     "data": {
      "text/plain": [
       "<Figure size 640x480 with 0 Axes>"
      ]
     },
     "metadata": {},
     "output_type": "display_data"
    }
   ],
   "source": [
    "import pandas as pd\n",
    "import matplotlib.pyplot as plt\n",
    "from sklearn.metrics import classification_report\n",
    "from sklearn.ensemble import RandomForestClassifier\n",
    "from sklearn.metrics import accuracy_score\n",
    "\n",
    "\n",
    "\n",
    "# Generate classification report as a dictionary\n",
    "report = classification_report(y_test, y_pred, output_dict=True)\n",
    "\n",
    "# Convert to DataFrame\n",
    "report_df = pd.DataFrame(report).transpose()\n",
    "\n",
    "# We are interested in f1-score and support, and we remove the last few rows which are average/total values\n",
    "report_df = report_df[:-3]\n",
    "\n",
    "# Sort by F1-score and select top 30\n",
    "top_30 = report_df.sort_values(by='f1-score', ascending=False).head(27)\n",
    "\n",
    "# Creating a figure and a set of subplots\n",
    "fig, ax1 = plt.subplots(figsize=(15, 10))\n",
    "\n",
    "# Bar width\n",
    "bar_width = 0.35\n",
    "\n",
    "# Index for each class/label\n",
    "index = range(len(top_30))\n",
    "\n",
    "# Plotting F1 score\n",
    "f1_bars = ax1.bar(index, top_30['f1-score'], bar_width, color='b', label='F1 Score')\n",
    "ax1.set_xlabel('Classes')\n",
    "ax1.set_ylabel('F1 Score', color='b')\n",
    "ax1.tick_params(axis='y', labelcolor='b')\n",
    "ax1.set_xticks(index)\n",
    "ax1.set_xticklabels(top_30.index, rotation=90)\n",
    "\n",
    "# Create a second y-axis for support, set to log scale\n",
    "ax2 = ax1.twinx()\n",
    "support_bars = ax2.bar([i + bar_width for i in index], top_30['support'], bar_width, color='g', label='Support')\n",
    "ax2.set_ylabel('Log Occurences', color='g')\n",
    "ax2.tick_params(axis='y', labelcolor='g')\n",
    "ax2.set_yscale('log')  # Set y-axis to log scale\n",
    "\n",
    "# Title and legend\n",
    "plt.title('Top 25 Sports by F1 Score')\n",
    "ax1.legend(handles=[f1_bars, support_bars], labels=['F1 Score', 'Log Occurences in dataset '], loc='upper right')\n",
    "fig.tight_layout()\n",
    "plt.show()\n",
    "plt.savefig('../figures/no_resample_results.png')"
   ]
  },
  {
   "cell_type": "markdown",
   "id": "b21ebd98",
   "metadata": {},
   "source": [
    "## RF with synthethic minority oversampling from imblearn and random undersampling"
   ]
  },
  {
   "cell_type": "code",
   "execution_count": 12,
   "id": "7c9c73bf",
   "metadata": {},
   "outputs": [
    {
     "name": "stdout",
     "output_type": "stream",
     "text": [
      "Classification Report:\n",
      "                          precision    recall  f1-score   support\n",
      "\n",
      "               aerobics       0.71      0.71      0.71         7\n",
      "                   bike       0.98      0.96      0.97     19395\n",
      "       bike (transport)       0.86      0.87      0.86      2085\n",
      "       circuit training       0.83      0.76      0.79        38\n",
      "core stability training       0.63      0.71      0.67       248\n",
      "   cross-country skiing       0.80      0.87      0.83       191\n",
      "        downhill skiing       0.91      0.91      0.91        23\n",
      "             elliptical       0.75      0.75      0.75        16\n",
      "        fitness walking       0.87      0.76      0.81        79\n",
      "             gymnastics       0.93      0.87      0.90        30\n",
      "                 hiking       0.58      0.74      0.65        68\n",
      "         indoor cycling       0.70      0.85      0.77       552\n",
      "               kayaking       0.79      0.83      0.81        53\n",
      "          mountain bike       0.90      0.95      0.93      2667\n",
      "           orienteering       0.68      0.78      0.73       247\n",
      "          roller skiing       0.92      0.74      0.82        88\n",
      "                 rowing       0.54      0.39      0.45        18\n",
      "                    run       0.99      0.98      0.99     23773\n",
      "                  skate       0.88      0.72      0.79       114\n",
      "            snowshoeing       0.50      0.33      0.40         6\n",
      "                 soccer       0.85      0.81      0.83        21\n",
      "               swimming       0.43      0.38      0.40         8\n",
      "      treadmill running       0.67      0.14      0.24        14\n",
      "                   walk       0.85      0.92      0.88       775\n",
      "        weight training       0.94      0.78      0.85        58\n",
      "\n",
      "               accuracy                           0.96     50574\n",
      "              macro avg       0.78      0.74      0.75     50574\n",
      "           weighted avg       0.96      0.96      0.96     50574\n",
      "\n",
      "Accuracy: 0.9602364851504726\n"
     ]
    }
   ],
   "source": [
    "from imblearn.over_sampling import SMOTE\n",
    "from imblearn.under_sampling import RandomUnderSampler\n",
    "from imblearn.pipeline import Pipeline\n",
    "from sklearn.ensemble import RandomForestClassifier\n",
    "from sklearn.metrics import classification_report, accuracy_score\n",
    "import numpy as np\n",
    "\n",
    "# Create the SMOTE object for over-sampling\n",
    "smote = SMOTE(random_state=42)\n",
    "\n",
    "\n",
    "\n",
    "# Define a pipeline for applying over-sampling followed by under-sampling\n",
    "resample_pipeline = Pipeline([('SMOTE', smote), ('UnderSampler', under_sampler)])\n",
    "\n",
    "# Resample the training data using the pipeline\n",
    "X_train_resampled, y_train_resampled = resample_pipeline.fit_resample(X_train, y_train)\n",
    "\n",
    "# Initialize the RandomForestClassifier\n",
    "rf = RandomForestClassifier(n_jobs=-1, random_state=42)\n",
    "\n",
    "# Train the model on the resampled training set\n",
    "rf.fit(X_train_resampled, y_train_resampled)\n",
    "\n",
    "# Make predictions on the original (un-resampled) test set\n",
    "y_pred = rf.predict(X_test)\n",
    "\n",
    "# Evaluate the model\n",
    "print(\"Classification Report:\\n\", classification_report(y_test, y_pred))\n",
    "print(\"Accuracy:\", accuracy_score(y_test, y_pred))\n"
   ]
  },
  {
   "cell_type": "markdown",
   "id": "8e02e61d",
   "metadata": {},
   "source": [
    "## much better macro recall slightly worse macro precision overall much better at predicting minority classes, slightly better total accuracy"
   ]
  },
  {
   "cell_type": "code",
   "execution_count": 13,
   "id": "60f4ed35",
   "metadata": {},
   "outputs": [
    {
     "data": {
      "image/png": "[encoded data removed]",
      "text/plain": [
       "<Figure size 1500x1000 with 2 Axes>"
      ]
     },
     "metadata": {},
     "output_type": "display_data"
    }
   ],
   "source": [
    "\n",
    "# Generate classification report as a dictionary\n",
    "report = classification_report(y_test, y_pred, output_dict=True)\n",
    "\n",
    "# Convert to DataFrame\n",
    "report_df = pd.DataFrame(report).transpose()\n",
    "\n",
    "# We are interested in f1-score and support, and we remove the last few rows which are average/total values\n",
    "report_df = report_df[:-3]\n",
    "\n",
    "# Sort by F1-score and select top 30\n",
    "top_30 = report_df.sort_values(by='f1-score', ascending=False).head(27)\n",
    "\n",
    "# Creating a figure and a set of subplots\n",
    "fig, ax1 = plt.subplots(figsize=(15, 10))\n",
    "\n",
    "# Bar width\n",
    "bar_width = 0.35\n",
    "\n",
    "# Index for each class/label\n",
    "index = range(len(top_30))\n",
    "\n",
    "# Plotting F1 score\n",
    "f1_bars = ax1.bar(index, top_30['f1-score'], bar_width, color='b', label='F1 Score')\n",
    "ax1.set_xlabel('Classes')\n",
    "ax1.set_ylabel('F1 Score', color='b')\n",
    "ax1.tick_params(axis='y', labelcolor='b')\n",
    "ax1.set_xticks(index)\n",
    "ax1.set_xticklabels(top_30.index, rotation=90)\n",
    "\n",
    "# Create a second y-axis for support, set to log scale\n",
    "ax2 = ax1.twinx()\n",
    "support_bars = ax2.bar([i + bar_width for i in index], top_30['support'], bar_width, color='g', label='Support')\n",
    "ax2.set_ylabel('Log Occurences', color='g')\n",
    "ax2.tick_params(axis='y', labelcolor='g')\n",
    "ax2.set_yscale('log')  # Set y-axis to log scale\n",
    "\n",
    "# Title and legend\n",
    "plt.title('Top 25 Sports by F1 Score')\n",
    "ax1.legend(handles=[f1_bars, support_bars], labels=['F1 Score', 'Log Occurences in dataset'], loc='upper right')\n",
    "fig.tight_layout()\n",
    "plt.show()\n",
    "plt.savefig('../figures/resampled_results.png')"
   ]
  },
  {
   "cell_type": "markdown",
   "id": "4e2dc28a",
   "metadata": {},
   "source": [
    "## cross val and hyperparam tuning"
   ]
  },
  {
   "cell_type": "code",
   "execution_count": 11,
   "id": "2f98e66d",
   "metadata": {},
   "outputs": [
    {
     "name": "stdout",
     "output_type": "stream",
     "text": [
      "Fitting 3 folds for each of 9 candidates, totalling 27 fits\n",
      "[CV] END .....................max_depth=10, n_estimators=100; total time= 8.2min\n",
      "[CV] END .....................max_depth=10, n_estimators=100; total time= 8.5min\n",
      "[CV] END .....................max_depth=10, n_estimators=100; total time= 8.6min\n",
      "[CV] END .....................max_depth=20, n_estimators=100; total time=14.4min\n",
      "[CV] END .....................max_depth=20, n_estimators=100; total time=14.7min\n",
      "[CV] END .....................max_depth=20, n_estimators=100; total time=14.9min\n",
      "[CV] END .....................max_depth=10, n_estimators=200; total time=15.5min\n",
      "[CV] END .....................max_depth=10, n_estimators=200; total time=15.6min\n",
      "[CV] END .....................max_depth=10, n_estimators=200; total time=16.3min\n",
      "[CV] END .....................max_depth=30, n_estimators=100; total time=15.7min\n",
      "[CV] END .....................max_depth=30, n_estimators=100; total time=15.7min\n",
      "[CV] END .....................max_depth=30, n_estimators=100; total time=15.8min\n",
      "[CV] END .....................max_depth=10, n_estimators=300; total time=20.9min\n",
      "[CV] END .....................max_depth=10, n_estimators=300; total time=21.1min\n",
      "[CV] END .....................max_depth=10, n_estimators=300; total time=21.2min\n",
      "[CV] END .....................max_depth=20, n_estimators=200; total time=21.1min\n",
      "[CV] END .....................max_depth=20, n_estimators=200; total time=21.6min\n",
      "[CV] END .....................max_depth=20, n_estimators=200; total time=21.3min\n",
      "Best Parameters: {'max_depth': 30, 'n_estimators': 300}\n",
      "Classification Report with Best Parameters:\n",
      "                          precision    recall  f1-score   support\n",
      "\n",
      "               aerobics       0.83      0.71      0.77         7\n",
      "                   bike       0.98      0.96      0.97     19395\n",
      "       bike (transport)       0.86      0.87      0.86      2085\n",
      "       circuit training       0.86      0.79      0.82        38\n",
      "core stability training       0.63      0.71      0.67       248\n",
      "   cross-country skiing       0.82      0.88      0.85       191\n",
      "        downhill skiing       0.91      0.91      0.91        23\n",
      "             elliptical       0.75      0.75      0.75        16\n",
      "        fitness walking       0.86      0.72      0.79        79\n",
      "             gymnastics       0.93      0.87      0.90        30\n",
      "                 hiking       0.56      0.71      0.63        68\n",
      "         indoor cycling       0.70      0.85      0.77       552\n",
      "               kayaking       0.77      0.81      0.79        53\n",
      "          mountain bike       0.90      0.95      0.93      2667\n",
      "           orienteering       0.64      0.77      0.70       247\n",
      "          roller skiing       0.91      0.77      0.83        88\n",
      "                 rowing       0.43      0.33      0.38        18\n",
      "                    run       0.99      0.98      0.99     23773\n",
      "                  skate       0.89      0.71      0.79       114\n",
      "            snowshoeing       0.50      0.33      0.40         6\n",
      "                 soccer       0.85      0.81      0.83        21\n",
      "               swimming       0.50      0.50      0.50         8\n",
      "      treadmill running       0.67      0.14      0.24        14\n",
      "                   walk       0.85      0.93      0.88       775\n",
      "        weight training       0.91      0.83      0.86        58\n",
      "\n",
      "               accuracy                           0.96     50574\n",
      "              macro avg       0.78      0.74      0.75     50574\n",
      "           weighted avg       0.96      0.96      0.96     50574\n",
      "\n",
      "Accuracy with Best Parameters: 0.9599398900620872\n",
      "[CV] END .....................max_depth=30, n_estimators=200; total time=20.8min\n",
      "[CV] END .....................max_depth=30, n_estimators=200; total time=20.6min\n",
      "[CV] END .....................max_depth=30, n_estimators=200; total time=21.3min\n",
      "[CV] END .....................max_depth=20, n_estimators=300; total time=23.6min\n",
      "[CV] END .....................max_depth=20, n_estimators=300; total time=24.0min\n",
      "[CV] END .....................max_depth=20, n_estimators=300; total time=23.8min\n",
      "[CV] END .....................max_depth=30, n_estimators=300; total time=22.2min\n",
      "[CV] END .....................max_depth=30, n_estimators=300; total time=22.6min\n",
      "[CV] END .....................max_depth=30, n_estimators=300; total time=22.0min\n"
     ]
    }
   ],
   "source": [
    "from sklearn.model_selection import GridSearchCV\n",
    "\n",
    "# Define the parameter grid to search\n",
    "param_grid = {\n",
    "    'n_estimators': [100, 200, 300],  # Number of trees in the forest\n",
    "    'max_depth': [10, 20, 30],  # Maximum depth of the tree\n",
    "       \n",
    "}\n",
    "\n",
    "# Initialize the GridSearchCV with a RandomForestClassifier and the parameter grid\n",
    "grid_search = GridSearchCV(\n",
    "    estimator=RandomForestClassifier(n_jobs=-1, random_state=42),\n",
    "    param_grid=param_grid,\n",
    "    cv=3,           # Number of folds in cross-validation\n",
    "    verbose=2,      # Controls the verbosity: the higher, the more messages\n",
    "    n_jobs=-1       # Number of jobs to run in parallel\n",
    ")\n",
    "\n",
    "# Fit the GridSearchCV to the resampled training data\n",
    "grid_search.fit(X_train_resampled, y_train_resampled)\n",
    "\n",
    "# Retrieve the best hyperparameters\n",
    "best_params = grid_search.best_params_\n",
    "print(\"Best Parameters:\", best_params)\n",
    "\n",
    "# Use the best estimator to make predictions\n",
    "best_rf = grid_search.best_estimator_\n",
    "y_pred_best = best_rf.predict(X_test)\n",
    "\n",
    "# Evaluate the model with the best parameters\n",
    "print(\"Classification Report with Best Parameters:\\n\", classification_report(y_test, y_pred_best))\n",
    "print(\"Accuracy with Best Parameters:\", accuracy_score(y_test, y_pred_best))\n"
   ]
  },
  {
   "cell_type": "markdown",
   "id": "fc1a61c7",
   "metadata": {},
   "source": [
    "# increasing params to higher numbers doesnt improve performance"
   ]
  },
  {
   "cell_type": "code",
   "execution_count": 59,
   "id": "dc295f64",
   "metadata": {},
   "outputs": [],
   "source": []
  },
  {
   "cell_type": "code",
   "execution_count": 60,
   "id": "2783c222",
   "metadata": {},
   "outputs": [],
   "source": []
  },
  {
   "cell_type": "code",
   "execution_count": null,
   "id": "1337efa7",
   "metadata": {},
   "outputs": [],
   "source": []
  },
  {
   "cell_type": "code",
   "execution_count": null,
   "id": "21d1c8a4",
   "metadata": {},
   "outputs": [],
   "source": []
  },
  {
   "cell_type": "code",
   "execution_count": null,
   "id": "544058d2",
   "metadata": {},
   "outputs": [],
   "source": []
  }
 ],
 "metadata": {
  "kernelspec": {
   "display_name": "Python 3.10.10 (TF-12.2)",
   "language": "python",
   "name": "python3.10.10"
  },
  "language_info": {
   "codemirror_mode": {
    "name": "ipython",
    "version": 3
   },
   "file_extension": ".py",
   "mimetype": "text/x-python",
   "name": "python",
   "nbconvert_exporter": "python",
   "pygments_lexer": "ipython3",
   "version": "3.10.10"
  }
 },
 "nbformat": 4,
 "nbformat_minor": 5
}
